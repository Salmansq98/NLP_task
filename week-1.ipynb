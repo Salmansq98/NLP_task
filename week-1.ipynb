{
 "cells": [
  {
   "cell_type": "markdown",
   "metadata": {},
   "source": [
    "In this week, we'll cover some basic intituions of\n",
    "# NLP"
   ]
  },
  {
   "cell_type": "code",
   "execution_count": 1,
   "metadata": {},
   "outputs": [],
   "source": [
    "# importing the some vital modules.\n",
    "import tensorflow as tf\n",
    "from tensorflow.keras.preprocessing.text import Tokenizer\n",
    "from tensorflow.keras.preprocessing.sequence import pad_sequences"
   ]
  },
  {
   "cell_type": "code",
   "execution_count": 2,
   "metadata": {},
   "outputs": [],
   "source": [
    "# sentences.\n",
    "sentences = [\n",
    "    'I love my dog',\n",
    "    'I love my cat',\n",
    "    'You love my dog!'\n",
    "    'Do you think my dog is amazing?'\n",
    "]"
   ]
  },
  {
   "cell_type": "code",
   "execution_count": 3,
   "metadata": {},
   "outputs": [
    {
     "name": "stdout",
     "output_type": "stream",
     "text": [
      "{'<OOv>': 1, 'my': 2, 'love': 3, 'dog': 4, 'i': 5, 'you': 6, 'cat': 7, 'do': 8, 'think': 9, 'is': 10, 'amazing': 11}\n"
     ]
    }
   ],
   "source": [
    "tokenizer = Tokenizer(num_words = 100, oov_token='<OOv>')\n",
    "# It will take top-n no's of words by volume.\n",
    "# oov_token = it will take the distinct(which are not in the word_index) words from the corpus.\n",
    "tokenizer.fit_on_texts(sentences)\n",
    "# It's gonna built 'dict', which will consist of word_index and a word\n",
    "# It will map a word to a number.\n",
    "\n",
    "word_index = tokenizer.word_index\n",
    "# returns the dict\n",
    "print(word_index)\n",
    "\n",
    "sequences = tokenizer.texts_to_sequences(sentences)\n",
    "# texts_to_sequences(): it will convert the text into sequence."
   ]
  },
  {
   "cell_type": "markdown",
   "metadata": {},
   "source": [
    "In Tokenizer, by Default it's getting rid of the spaces and also removes the punctuation by Default except apostrophe."
   ]
  },
  {
   "cell_type": "code",
   "execution_count": 4,
   "metadata": {},
   "outputs": [],
   "source": [
    "padded = pad_sequences(sequences, maxlen=5, truncating='post')\n",
    "# Notice in the sentence, we have sentences which are not equal. I'll\n",
    "# use pad_sequence to make it equal size. \n",
    "# truncate the exceeded sentences from the end, which are above maxlen \n",
    "# In the real world, if you mention truncating='pre' there are chances of losing the data."
   ]
  },
  {
   "cell_type": "code",
   "execution_count": 8,
   "metadata": {},
   "outputs": [
    {
     "name": "stdout",
     "output_type": "stream",
     "text": [
      "\n",
      " Test sequence [[5, 1, 3, 2, 4], [2, 4, 1, 1]]\n",
      "\n",
      " padded test sequence\n",
      "[[5 1 3 2 4 0 0 0]\n",
      " [2 4 1 1 0 0 0 0]]\n"
     ]
    }
   ],
   "source": [
    "# lets test it.\n",
    "test_data = [\n",
    "    'I really love my dog',\n",
    "    'my dog loves me']\n",
    "test_seq = tokenizer.texts_to_sequences(test_data)\n",
    "print('\\n Test sequence', test_seq)\n",
    "padded_test = pad_sequences(test_seq, maxlen=8, padding='post')\n",
    "print('\\n padded test sequence')\n",
    "print(padded_test)"
   ]
  }
 ],
 "metadata": {
  "kernelspec": {
   "display_name": "Python 3",
   "language": "python",
   "name": "python3"
  },
  "language_info": {
   "codemirror_mode": {
    "name": "ipython",
    "version": 3
   },
   "file_extension": ".py",
   "mimetype": "text/x-python",
   "name": "python",
   "nbconvert_exporter": "python",
   "pygments_lexer": "ipython3",
   "version": "3.7.3"
  }
 },
 "nbformat": 4,
 "nbformat_minor": 2
}
